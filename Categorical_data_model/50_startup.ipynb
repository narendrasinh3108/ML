import pandas as pd
import numpy as np
from sklearn.linear_model import LinearRegression
from sklearn.preprocessing import LabelEncoder
from sklearn.preprocessing import OneHotEncoder
from sklearn.model_selection import train_test_split


# In[2]:


dataset=pd.read_csv('50_Startups.csv')


# In[3]:


dataset


# In[4]:


state=dataset['State']


# In[5]:


state_encoder=LabelEncoder()


# In[6]:


state=state_encoder.fit_transform(state)


# In[7]:


state


# In[8]:


state_ohe=OneHotEncoder()


# In[9]:


state=state.reshape(-1,1)


# In[10]:


state=state_ohe.fit_transform(state)


# In[11]:


state.ndim


# In[12]:


state=state.toarray()


# In[13]:


state=state[:,0:2]


# In[14]:


state


# x=dataset.columns['R&D Spend', 'Administration', 'Marketing Spend']

# In[15]:


x=dataset[['R&D Spend', 'Administration', 'Marketing Spend']]


# In[16]:


x=np.hstack((x,state))


# In[17]:


x


# In[18]:


dataset.columns


# In[19]:


y=dataset['Profit']


# In[20]:


x_train,x_test,y_train,y_test=train_test_split(x,y,test_size=0.20)


# In[21]:


x_train.ndim


# In[22]:


model=LinearRegression()


# In[23]:


model.fit(x_train,y_train)


# In[24]:


model.predict(x_test)


# In[25]:


y_test


# In[26]:


model.score(x_test,y_test)


# In[27]:


import joblib


# In[28]:


joblib.dump(model,"50_Startups.pk1")


# In[29]:


model1=joblib.load('50_Startups.pk1')


# In[30]:


model1.predict(x_test)
